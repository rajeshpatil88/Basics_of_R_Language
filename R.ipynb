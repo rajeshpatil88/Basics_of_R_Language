{
 "cells": [
  {
   "cell_type": "markdown",
   "id": "0260b142",
   "metadata": {},
   "source": [
    "- In this notebook, we will work on a case study where we will learn how the data needs to be prepared to analyze and apply any ML algorithms"
   ]
  },
  {
   "cell_type": "markdown",
   "id": "3ea937d7",
   "metadata": {},
   "source": [
    "#### Problem Statement\n",
    "__Case__\n",
    "- Given is a data about customers of a bank. At some point, the bank wants to use an automatic system to predict whether loan can be granted to a customer based on his/her credentials. But before building that system, we need to clearly understand the data and prepare the data accordingly. This exercise gives you a glimpse of general pre-processing aspects followed during data preparation.\n"
   ]
  },
  {
   "cell_type": "markdown",
   "id": "68c84c62",
   "metadata": {},
   "source": [
    "- __Steps involved:__\n",
    "\n",
    "    1. Read the data and preliminary analysis of data\n",
    "        - How many records and how many variables are available in data\n",
    "        - What are the data types that are available\n",
    "        - Structure and basic summary of the data\n",
    "    2. Variable interpretation- checking weither R interpreted the variable types correctly or not\n",
    "        - If not then perform a type conversion\n",
    "    3. Missing value analysis\n",
    "    \n",
    "    4. Creating different kinds of data\n",
    "        - Binning the numeric variables\n",
    "        - Dummification of categorical attributes\n",
    "        - Data standardization\n"
   ]
  },
  {
   "cell_type": "markdown",
   "id": "3f1f65d4",
   "metadata": {},
   "source": [
    "### 1. Read the data and preliminary analysis of data"
   ]
  },
  {
   "cell_type": "code",
   "execution_count": 12,
   "id": "7088611c",
   "metadata": {},
   "outputs": [],
   "source": [
    "# Read the data\n",
    "\n",
    "data = read.csv('Data/Bank.csv')"
   ]
  },
  {
   "cell_type": "code",
   "execution_count": 13,
   "id": "0b82211e",
   "metadata": {},
   "outputs": [
    {
     "name": "stdout",
     "output_type": "stream",
     "text": [
      "'data.frame':\t5000 obs. of  14 variables:\n",
      " $ ID                : int  1 2 3 4 5 6 7 8 9 10 ...\n",
      " $ Age               : int  25 45 39 35 35 37 53 50 35 34 ...\n",
      " $ Experience        : int  1 19 15 9 8 13 27 24 10 9 ...\n",
      " $ Income            : int  49 34 11 100 45 29 72 22 81 180 ...\n",
      " $ ZIP.Code          : int  91107 90089 94720 94112 91330 92121 91711 93943 90089 93023 ...\n",
      " $ Family            : int  4 3 1 1 4 4 2 1 3 1 ...\n",
      " $ CCAvg             : num  1.6 1.5 1 2.7 1 0.4 1.5 0.3 0.6 8.9 ...\n",
      " $ Education         : int  1 1 1 2 2 2 2 3 2 3 ...\n",
      " $ Mortgage          : int  0 0 0 0 0 155 0 0 104 0 ...\n",
      " $ Personal.Loan     : int  0 0 0 0 0 0 0 0 0 1 ...\n",
      " $ Securities.Account: int  1 1 0 0 0 0 0 0 0 0 ...\n",
      " $ CD.Account        : int  0 0 0 0 0 0 0 0 0 0 ...\n",
      " $ Online            : int  0 0 0 0 0 1 1 0 1 0 ...\n",
      " $ CreditCard        : int  0 0 0 0 1 0 0 1 0 0 ...\n"
     ]
    }
   ],
   "source": [
    "# Undertanding data structure (similar to data.dtypes in python)\n",
    "\n",
    "str(data)"
   ]
  },
  {
   "cell_type": "markdown",
   "id": "68ddba7e",
   "metadata": {},
   "source": [
    "- Identify the numeric and categorical attributes in the data\n",
    "\n",
    "Here we need to identify the correct datatype. That can be done by understanding the data\n",
    "and having knowledge about the domain can help."
   ]
  },
  {
   "cell_type": "code",
   "execution_count": 17,
   "id": "b0ab4443",
   "metadata": {},
   "outputs": [
    {
     "data": {
      "text/html": [
       "<table>\n",
       "<thead><tr><th scope=col>ID</th><th scope=col>Age</th><th scope=col>Experience</th><th scope=col>Income</th><th scope=col>ZIP.Code</th><th scope=col>Family</th><th scope=col>CCAvg</th><th scope=col>Education</th><th scope=col>Mortgage</th><th scope=col>Personal.Loan</th><th scope=col>Securities.Account</th><th scope=col>CD.Account</th><th scope=col>Online</th><th scope=col>CreditCard</th></tr></thead>\n",
       "<tbody>\n",
       "\t<tr><td> 1   </td><td>25   </td><td> 1   </td><td> 49  </td><td>91107</td><td>4    </td><td>1.6  </td><td>1    </td><td>  0  </td><td>0    </td><td>1    </td><td>0    </td><td>0    </td><td>0    </td></tr>\n",
       "\t<tr><td> 2   </td><td>45   </td><td>19   </td><td> 34  </td><td>90089</td><td>3    </td><td>1.5  </td><td>1    </td><td>  0  </td><td>0    </td><td>1    </td><td>0    </td><td>0    </td><td>0    </td></tr>\n",
       "\t<tr><td> 3   </td><td>39   </td><td>15   </td><td> 11  </td><td>94720</td><td>1    </td><td>1.0  </td><td>1    </td><td>  0  </td><td>0    </td><td>0    </td><td>0    </td><td>0    </td><td>0    </td></tr>\n",
       "\t<tr><td> 4   </td><td>35   </td><td> 9   </td><td>100  </td><td>94112</td><td>1    </td><td>2.7  </td><td>2    </td><td>  0  </td><td>0    </td><td>0    </td><td>0    </td><td>0    </td><td>0    </td></tr>\n",
       "\t<tr><td> 5   </td><td>35   </td><td> 8   </td><td> 45  </td><td>91330</td><td>4    </td><td>1.0  </td><td>2    </td><td>  0  </td><td>0    </td><td>0    </td><td>0    </td><td>0    </td><td>1    </td></tr>\n",
       "\t<tr><td> 6   </td><td>37   </td><td>13   </td><td> 29  </td><td>92121</td><td>4    </td><td>0.4  </td><td>2    </td><td>155  </td><td>0    </td><td>0    </td><td>0    </td><td>1    </td><td>0    </td></tr>\n",
       "\t<tr><td> 7   </td><td>53   </td><td>27   </td><td> 72  </td><td>91711</td><td>2    </td><td>1.5  </td><td>2    </td><td>  0  </td><td>0    </td><td>0    </td><td>0    </td><td>1    </td><td>0    </td></tr>\n",
       "\t<tr><td> 8   </td><td>50   </td><td>24   </td><td> 22  </td><td>93943</td><td>1    </td><td>0.3  </td><td>3    </td><td>  0  </td><td>0    </td><td>0    </td><td>0    </td><td>0    </td><td>1    </td></tr>\n",
       "\t<tr><td> 9   </td><td>35   </td><td>10   </td><td> 81  </td><td>90089</td><td>3    </td><td>0.6  </td><td>2    </td><td>104  </td><td>0    </td><td>0    </td><td>0    </td><td>1    </td><td>0    </td></tr>\n",
       "\t<tr><td>10   </td><td>34   </td><td> 9   </td><td>180  </td><td>93023</td><td>1    </td><td>8.9  </td><td>3    </td><td>  0  </td><td>1    </td><td>0    </td><td>0    </td><td>0    </td><td>0    </td></tr>\n",
       "</tbody>\n",
       "</table>\n"
      ],
      "text/latex": [
       "\\begin{tabular}{r|llllllllllllll}\n",
       " ID & Age & Experience & Income & ZIP.Code & Family & CCAvg & Education & Mortgage & Personal.Loan & Securities.Account & CD.Account & Online & CreditCard\\\\\n",
       "\\hline\n",
       "\t  1    & 25    &  1    &  49   & 91107 & 4     & 1.6   & 1     &   0   & 0     & 1     & 0     & 0     & 0    \\\\\n",
       "\t  2    & 45    & 19    &  34   & 90089 & 3     & 1.5   & 1     &   0   & 0     & 1     & 0     & 0     & 0    \\\\\n",
       "\t  3    & 39    & 15    &  11   & 94720 & 1     & 1.0   & 1     &   0   & 0     & 0     & 0     & 0     & 0    \\\\\n",
       "\t  4    & 35    &  9    & 100   & 94112 & 1     & 2.7   & 2     &   0   & 0     & 0     & 0     & 0     & 0    \\\\\n",
       "\t  5    & 35    &  8    &  45   & 91330 & 4     & 1.0   & 2     &   0   & 0     & 0     & 0     & 0     & 1    \\\\\n",
       "\t  6    & 37    & 13    &  29   & 92121 & 4     & 0.4   & 2     & 155   & 0     & 0     & 0     & 1     & 0    \\\\\n",
       "\t  7    & 53    & 27    &  72   & 91711 & 2     & 1.5   & 2     &   0   & 0     & 0     & 0     & 1     & 0    \\\\\n",
       "\t  8    & 50    & 24    &  22   & 93943 & 1     & 0.3   & 3     &   0   & 0     & 0     & 0     & 0     & 1    \\\\\n",
       "\t  9    & 35    & 10    &  81   & 90089 & 3     & 0.6   & 2     & 104   & 0     & 0     & 0     & 1     & 0    \\\\\n",
       "\t 10    & 34    &  9    & 180   & 93023 & 1     & 8.9   & 3     &   0   & 1     & 0     & 0     & 0     & 0    \\\\\n",
       "\\end{tabular}\n"
      ],
      "text/markdown": [
       "\n",
       "| ID | Age | Experience | Income | ZIP.Code | Family | CCAvg | Education | Mortgage | Personal.Loan | Securities.Account | CD.Account | Online | CreditCard |\n",
       "|---|---|---|---|---|---|---|---|---|---|---|---|---|---|\n",
       "|  1    | 25    |  1    |  49   | 91107 | 4     | 1.6   | 1     |   0   | 0     | 1     | 0     | 0     | 0     |\n",
       "|  2    | 45    | 19    |  34   | 90089 | 3     | 1.5   | 1     |   0   | 0     | 1     | 0     | 0     | 0     |\n",
       "|  3    | 39    | 15    |  11   | 94720 | 1     | 1.0   | 1     |   0   | 0     | 0     | 0     | 0     | 0     |\n",
       "|  4    | 35    |  9    | 100   | 94112 | 1     | 2.7   | 2     |   0   | 0     | 0     | 0     | 0     | 0     |\n",
       "|  5    | 35    |  8    |  45   | 91330 | 4     | 1.0   | 2     |   0   | 0     | 0     | 0     | 0     | 1     |\n",
       "|  6    | 37    | 13    |  29   | 92121 | 4     | 0.4   | 2     | 155   | 0     | 0     | 0     | 1     | 0     |\n",
       "|  7    | 53    | 27    |  72   | 91711 | 2     | 1.5   | 2     |   0   | 0     | 0     | 0     | 1     | 0     |\n",
       "|  8    | 50    | 24    |  22   | 93943 | 1     | 0.3   | 3     |   0   | 0     | 0     | 0     | 0     | 1     |\n",
       "|  9    | 35    | 10    |  81   | 90089 | 3     | 0.6   | 2     | 104   | 0     | 0     | 0     | 1     | 0     |\n",
       "| 10    | 34    |  9    | 180   | 93023 | 1     | 8.9   | 3     |   0   | 1     | 0     | 0     | 0     | 0     |\n",
       "\n"
      ],
      "text/plain": [
       "   ID Age Experience Income ZIP.Code Family CCAvg Education Mortgage\n",
       "1   1 25   1          49    91107    4      1.6   1           0     \n",
       "2   2 45  19          34    90089    3      1.5   1           0     \n",
       "3   3 39  15          11    94720    1      1.0   1           0     \n",
       "4   4 35   9         100    94112    1      2.7   2           0     \n",
       "5   5 35   8          45    91330    4      1.0   2           0     \n",
       "6   6 37  13          29    92121    4      0.4   2         155     \n",
       "7   7 53  27          72    91711    2      1.5   2           0     \n",
       "8   8 50  24          22    93943    1      0.3   3           0     \n",
       "9   9 35  10          81    90089    3      0.6   2         104     \n",
       "10 10 34   9         180    93023    1      8.9   3           0     \n",
       "   Personal.Loan Securities.Account CD.Account Online CreditCard\n",
       "1  0             1                  0          0      0         \n",
       "2  0             1                  0          0      0         \n",
       "3  0             0                  0          0      0         \n",
       "4  0             0                  0          0      0         \n",
       "5  0             0                  0          0      1         \n",
       "6  0             0                  0          1      0         \n",
       "7  0             0                  0          1      0         \n",
       "8  0             0                  0          0      1         \n",
       "9  0             0                  0          1      0         \n",
       "10 1             0                  0          0      0         "
      ]
     },
     "metadata": {},
     "output_type": "display_data"
    }
   ],
   "source": [
    "# view the top data (similar to data.head(10) in python )\n",
    "\n",
    "head(data,10)\n",
    "# tail(data,5)"
   ]
  },
  {
   "cell_type": "code",
   "execution_count": 19,
   "id": "d1540f94",
   "metadata": {},
   "outputs": [
    {
     "data": {
      "text/plain": [
       "       ID            Age          Experience       Income          ZIP.Code    \n",
       " Min.   :   1   Min.   :23.00   Min.   :-3.0   Min.   :  8.00   Min.   : 9307  \n",
       " 1st Qu.:1251   1st Qu.:35.00   1st Qu.:10.0   1st Qu.: 39.00   1st Qu.:91911  \n",
       " Median :2500   Median :45.00   Median :20.0   Median : 64.00   Median :93437  \n",
       " Mean   :2500   Mean   :45.34   Mean   :20.1   Mean   : 73.77   Mean   :93153  \n",
       " 3rd Qu.:3750   3rd Qu.:55.00   3rd Qu.:30.0   3rd Qu.: 98.00   3rd Qu.:94608  \n",
       " Max.   :5000   Max.   :67.00   Max.   :43.0   Max.   :224.00   Max.   :96651  \n",
       "     Family          CCAvg          Education        Mortgage    \n",
       " Min.   :1.000   Min.   : 0.000   Min.   :1.000   Min.   :  0.0  \n",
       " 1st Qu.:1.000   1st Qu.: 0.700   1st Qu.:1.000   1st Qu.:  0.0  \n",
       " Median :2.000   Median : 1.500   Median :2.000   Median :  0.0  \n",
       " Mean   :2.396   Mean   : 1.938   Mean   :1.881   Mean   : 56.5  \n",
       " 3rd Qu.:3.000   3rd Qu.: 2.500   3rd Qu.:3.000   3rd Qu.:101.0  \n",
       " Max.   :4.000   Max.   :10.000   Max.   :3.000   Max.   :635.0  \n",
       " Personal.Loan   Securities.Account   CD.Account         Online      \n",
       " Min.   :0.000   Min.   :0.0000     Min.   :0.0000   Min.   :0.0000  \n",
       " 1st Qu.:0.000   1st Qu.:0.0000     1st Qu.:0.0000   1st Qu.:0.0000  \n",
       " Median :0.000   Median :0.0000     Median :0.0000   Median :1.0000  \n",
       " Mean   :0.096   Mean   :0.1044     Mean   :0.0604   Mean   :0.5968  \n",
       " 3rd Qu.:0.000   3rd Qu.:0.0000     3rd Qu.:0.0000   3rd Qu.:1.0000  \n",
       " Max.   :1.000   Max.   :1.0000     Max.   :1.0000   Max.   :1.0000  \n",
       "   CreditCard   \n",
       " Min.   :0.000  \n",
       " 1st Qu.:0.000  \n",
       " Median :0.000  \n",
       " Mean   :0.294  \n",
       " 3rd Qu.:1.000  \n",
       " Max.   :1.000  "
      ]
     },
     "metadata": {},
     "output_type": "display_data"
    }
   ],
   "source": [
    "# Describing the data ( similar to data.describe() in python)\n",
    "\n",
    "summary(data)"
   ]
  },
  {
   "cell_type": "code",
   "execution_count": 23,
   "id": "208ef68f",
   "metadata": {},
   "outputs": [
    {
     "data": {
      "text/html": [
       "<ol class=list-inline>\n",
       "\t<li>'ID'</li>\n",
       "\t<li>'Age'</li>\n",
       "\t<li>'Experience'</li>\n",
       "\t<li>'Income'</li>\n",
       "\t<li>'ZIP.Code'</li>\n",
       "\t<li>'Family'</li>\n",
       "\t<li>'CCAvg'</li>\n",
       "\t<li>'Education'</li>\n",
       "\t<li>'Mortgage'</li>\n",
       "\t<li>'Personal.Loan'</li>\n",
       "\t<li>'Securities.Account'</li>\n",
       "\t<li>'CD.Account'</li>\n",
       "\t<li>'Online'</li>\n",
       "\t<li>'CreditCard'</li>\n",
       "</ol>\n"
      ],
      "text/latex": [
       "\\begin{enumerate*}\n",
       "\\item 'ID'\n",
       "\\item 'Age'\n",
       "\\item 'Experience'\n",
       "\\item 'Income'\n",
       "\\item 'ZIP.Code'\n",
       "\\item 'Family'\n",
       "\\item 'CCAvg'\n",
       "\\item 'Education'\n",
       "\\item 'Mortgage'\n",
       "\\item 'Personal.Loan'\n",
       "\\item 'Securities.Account'\n",
       "\\item 'CD.Account'\n",
       "\\item 'Online'\n",
       "\\item 'CreditCard'\n",
       "\\end{enumerate*}\n"
      ],
      "text/markdown": [
       "1. 'ID'\n",
       "2. 'Age'\n",
       "3. 'Experience'\n",
       "4. 'Income'\n",
       "5. 'ZIP.Code'\n",
       "6. 'Family'\n",
       "7. 'CCAvg'\n",
       "8. 'Education'\n",
       "9. 'Mortgage'\n",
       "10. 'Personal.Loan'\n",
       "11. 'Securities.Account'\n",
       "12. 'CD.Account'\n",
       "13. 'Online'\n",
       "14. 'CreditCard'\n",
       "\n",
       "\n"
      ],
      "text/plain": [
       " [1] \"ID\"                 \"Age\"                \"Experience\"        \n",
       " [4] \"Income\"             \"ZIP.Code\"           \"Family\"            \n",
       " [7] \"CCAvg\"              \"Education\"          \"Mortgage\"          \n",
       "[10] \"Personal.Loan\"      \"Securities.Account\" \"CD.Account\"        \n",
       "[13] \"Online\"             \"CreditCard\"        "
      ]
     },
     "metadata": {},
     "output_type": "display_data"
    }
   ],
   "source": [
    "# Print the column names of dataframe (similar to data.columns in python)\n",
    "\n",
    "names(data)"
   ]
  },
  {
   "cell_type": "markdown",
   "id": "7e91ce34",
   "metadata": {},
   "source": [
    "### 2. Variable interpretation- checking weither R interpreted the variable types correctly or not"
   ]
  },
  {
   "cell_type": "markdown",
   "id": "de26b0f5",
   "metadata": {},
   "source": [
    "__Identifing and Sepearating numeric and categorical attributes and make explicit type conversion__\n",
    "\n",
    "__a. Categorical__"
   ]
  },
  {
   "cell_type": "code",
   "execution_count": null,
   "id": "d5257d6d",
   "metadata": {},
   "outputs": [],
   "source": [
    "### Categorical attributes- Family, Education, Personal loan, Security,CD, Online, CC\n",
    "\n",
    "\n",
    "\n",
    "cat_att = c(\"Family\",\"Education\",\"Personal.Loan\",\"CD.Account\",\n",
    "           \"Securities.Account\",\"Online\",\"CreditCard\")"
   ]
  },
  {
   "cell_type": "markdown",
   "id": "5608095a",
   "metadata": {},
   "source": [
    "###### c is a function in R that is used to combine or concatenate elements into a vector. It stands for \"combine\" or \"concatenate.\""
   ]
  },
  {
   "cell_type": "code",
   "execution_count": 26,
   "id": "ca73da5c",
   "metadata": {},
   "outputs": [],
   "source": [
    "# Accessing the cat columns from dataframe and storing it seperately\n",
    "\n",
    "cat_data = data[cat_att]"
   ]
  },
  {
   "cell_type": "code",
   "execution_count": 27,
   "id": "6de96aec",
   "metadata": {},
   "outputs": [
    {
     "data": {
      "text/html": [
       "<table>\n",
       "<thead><tr><th scope=col>Family</th><th scope=col>Education</th><th scope=col>Personal.Loan</th><th scope=col>CD.Account</th><th scope=col>Securities.Account</th><th scope=col>Online</th><th scope=col>CreditCard</th></tr></thead>\n",
       "<tbody>\n",
       "\t<tr><td>4</td><td>1</td><td>0</td><td>0</td><td>1</td><td>0</td><td>0</td></tr>\n",
       "\t<tr><td>3</td><td>1</td><td>0</td><td>0</td><td>1</td><td>0</td><td>0</td></tr>\n",
       "\t<tr><td>1</td><td>1</td><td>0</td><td>0</td><td>0</td><td>0</td><td>0</td></tr>\n",
       "\t<tr><td>1</td><td>2</td><td>0</td><td>0</td><td>0</td><td>0</td><td>0</td></tr>\n",
       "\t<tr><td>4</td><td>2</td><td>0</td><td>0</td><td>0</td><td>0</td><td>1</td></tr>\n",
       "\t<tr><td>4</td><td>2</td><td>0</td><td>0</td><td>0</td><td>1</td><td>0</td></tr>\n",
       "</tbody>\n",
       "</table>\n"
      ],
      "text/latex": [
       "\\begin{tabular}{r|lllllll}\n",
       " Family & Education & Personal.Loan & CD.Account & Securities.Account & Online & CreditCard\\\\\n",
       "\\hline\n",
       "\t 4 & 1 & 0 & 0 & 1 & 0 & 0\\\\\n",
       "\t 3 & 1 & 0 & 0 & 1 & 0 & 0\\\\\n",
       "\t 1 & 1 & 0 & 0 & 0 & 0 & 0\\\\\n",
       "\t 1 & 2 & 0 & 0 & 0 & 0 & 0\\\\\n",
       "\t 4 & 2 & 0 & 0 & 0 & 0 & 1\\\\\n",
       "\t 4 & 2 & 0 & 0 & 0 & 1 & 0\\\\\n",
       "\\end{tabular}\n"
      ],
      "text/markdown": [
       "\n",
       "| Family | Education | Personal.Loan | CD.Account | Securities.Account | Online | CreditCard |\n",
       "|---|---|---|---|---|---|---|\n",
       "| 4 | 1 | 0 | 0 | 1 | 0 | 0 |\n",
       "| 3 | 1 | 0 | 0 | 1 | 0 | 0 |\n",
       "| 1 | 1 | 0 | 0 | 0 | 0 | 0 |\n",
       "| 1 | 2 | 0 | 0 | 0 | 0 | 0 |\n",
       "| 4 | 2 | 0 | 0 | 0 | 0 | 1 |\n",
       "| 4 | 2 | 0 | 0 | 0 | 1 | 0 |\n",
       "\n"
      ],
      "text/plain": [
       "  Family Education Personal.Loan CD.Account Securities.Account Online\n",
       "1 4      1         0             0          1                  0     \n",
       "2 3      1         0             0          1                  0     \n",
       "3 1      1         0             0          0                  0     \n",
       "4 1      2         0             0          0                  0     \n",
       "5 4      2         0             0          0                  0     \n",
       "6 4      2         0             0          0                  1     \n",
       "  CreditCard\n",
       "1 0         \n",
       "2 0         \n",
       "3 0         \n",
       "4 0         \n",
       "5 1         \n",
       "6 0         "
      ]
     },
     "metadata": {},
     "output_type": "display_data"
    }
   ],
   "source": [
    "head(cat_data)"
   ]
  },
  {
   "cell_type": "code",
   "execution_count": 28,
   "id": "c30adf3f",
   "metadata": {},
   "outputs": [],
   "source": [
    "## converting the columns to factor using as.factor - Type conversion\n",
    "\n",
    "cat_data = data.frame(lapply(cat_data,FUN=as.factor))"
   ]
  },
  {
   "cell_type": "markdown",
   "id": "845956aa",
   "metadata": {},
   "source": [
    "- __The data.frame function in R is used to create a data frame object.__\n",
    "- __The lapply function in R is used to apply a given function to each element of a list or vector. It stands for \"list apply.\" It takes two main arguments: the list or vector to apply the function to, and the function itself.__"
   ]
  },
  {
   "cell_type": "code",
   "execution_count": 30,
   "id": "3cbef7bc",
   "metadata": {},
   "outputs": [
    {
     "name": "stdout",
     "output_type": "stream",
     "text": [
      "'data.frame':\t5000 obs. of  7 variables:\n",
      " $ Family            : Factor w/ 4 levels \"1\",\"2\",\"3\",\"4\": 4 3 1 1 4 4 2 1 3 1 ...\n",
      " $ Education         : Factor w/ 3 levels \"1\",\"2\",\"3\": 1 1 1 2 2 2 2 3 2 3 ...\n",
      " $ Personal.Loan     : Factor w/ 2 levels \"0\",\"1\": 1 1 1 1 1 1 1 1 1 2 ...\n",
      " $ CD.Account        : Factor w/ 2 levels \"0\",\"1\": 1 1 1 1 1 1 1 1 1 1 ...\n",
      " $ Securities.Account: Factor w/ 2 levels \"0\",\"1\": 2 2 1 1 1 1 1 1 1 1 ...\n",
      " $ Online            : Factor w/ 2 levels \"0\",\"1\": 1 1 1 1 1 2 2 1 2 1 ...\n",
      " $ CreditCard        : Factor w/ 2 levels \"0\",\"1\": 1 1 1 1 2 1 1 2 1 1 ...\n"
     ]
    }
   ],
   "source": [
    "# Now we can see the categorical attributes are changed to factors\n",
    "\n",
    "str(cat_data)"
   ]
  },
  {
   "cell_type": "markdown",
   "id": "7a4556b7",
   "metadata": {},
   "source": [
    "__b. Numerical__\n"
   ]
  },
  {
   "cell_type": "code",
   "execution_count": 32,
   "id": "6a74f9b9",
   "metadata": {},
   "outputs": [
    {
     "data": {
      "text/html": [
       "<ol class=list-inline>\n",
       "\t<li>'ID'</li>\n",
       "\t<li>'Age'</li>\n",
       "\t<li>'Experience'</li>\n",
       "\t<li>'Income'</li>\n",
       "\t<li>'ZIP.Code'</li>\n",
       "\t<li>'CCAvg'</li>\n",
       "\t<li>'Mortgage'</li>\n",
       "</ol>\n"
      ],
      "text/latex": [
       "\\begin{enumerate*}\n",
       "\\item 'ID'\n",
       "\\item 'Age'\n",
       "\\item 'Experience'\n",
       "\\item 'Income'\n",
       "\\item 'ZIP.Code'\n",
       "\\item 'CCAvg'\n",
       "\\item 'Mortgage'\n",
       "\\end{enumerate*}\n"
      ],
      "text/markdown": [
       "1. 'ID'\n",
       "2. 'Age'\n",
       "3. 'Experience'\n",
       "4. 'Income'\n",
       "5. 'ZIP.Code'\n",
       "6. 'CCAvg'\n",
       "7. 'Mortgage'\n",
       "\n",
       "\n"
      ],
      "text/plain": [
       "[1] \"ID\"         \"Age\"        \"Experience\" \"Income\"     \"ZIP.Code\"  \n",
       "[6] \"CCAvg\"      \"Mortgage\"  "
      ]
     },
     "metadata": {},
     "output_type": "display_data"
    }
   ],
   "source": [
    "## Fetching the numeric attributes from the dataframe\n",
    "\n",
    "num_data<-data[!names(data)%in%cat_att]\n",
    "names(num_data)\n",
    "\n",
    "# names(data) retrieves the column names of the data data frame.\n",
    "# %in% is the R operator used to check if elements are present in a vector. \n",
    "# cat_att is the vector containing the names of categorical attributes.\n",
    "# ! is the negation operator in R. It negates the logical vector produced by %in%."
   ]
  },
  {
   "cell_type": "code",
   "execution_count": 33,
   "id": "42159b66",
   "metadata": {},
   "outputs": [
    {
     "data": {
      "text/html": [
       "<table>\n",
       "<thead><tr><th scope=col>ID</th><th scope=col>Age</th><th scope=col>Experience</th><th scope=col>Income</th><th scope=col>ZIP.Code</th><th scope=col>CCAvg</th><th scope=col>Mortgage</th></tr></thead>\n",
       "<tbody>\n",
       "\t<tr><td>1    </td><td>25   </td><td> 1   </td><td> 49  </td><td>91107</td><td>1.6  </td><td>  0  </td></tr>\n",
       "\t<tr><td>2    </td><td>45   </td><td>19   </td><td> 34  </td><td>90089</td><td>1.5  </td><td>  0  </td></tr>\n",
       "\t<tr><td>3    </td><td>39   </td><td>15   </td><td> 11  </td><td>94720</td><td>1.0  </td><td>  0  </td></tr>\n",
       "\t<tr><td>4    </td><td>35   </td><td> 9   </td><td>100  </td><td>94112</td><td>2.7  </td><td>  0  </td></tr>\n",
       "\t<tr><td>5    </td><td>35   </td><td> 8   </td><td> 45  </td><td>91330</td><td>1.0  </td><td>  0  </td></tr>\n",
       "\t<tr><td>6    </td><td>37   </td><td>13   </td><td> 29  </td><td>92121</td><td>0.4  </td><td>155  </td></tr>\n",
       "</tbody>\n",
       "</table>\n"
      ],
      "text/latex": [
       "\\begin{tabular}{r|lllllll}\n",
       " ID & Age & Experience & Income & ZIP.Code & CCAvg & Mortgage\\\\\n",
       "\\hline\n",
       "\t 1     & 25    &  1    &  49   & 91107 & 1.6   &   0  \\\\\n",
       "\t 2     & 45    & 19    &  34   & 90089 & 1.5   &   0  \\\\\n",
       "\t 3     & 39    & 15    &  11   & 94720 & 1.0   &   0  \\\\\n",
       "\t 4     & 35    &  9    & 100   & 94112 & 2.7   &   0  \\\\\n",
       "\t 5     & 35    &  8    &  45   & 91330 & 1.0   &   0  \\\\\n",
       "\t 6     & 37    & 13    &  29   & 92121 & 0.4   & 155  \\\\\n",
       "\\end{tabular}\n"
      ],
      "text/markdown": [
       "\n",
       "| ID | Age | Experience | Income | ZIP.Code | CCAvg | Mortgage |\n",
       "|---|---|---|---|---|---|---|\n",
       "| 1     | 25    |  1    |  49   | 91107 | 1.6   |   0   |\n",
       "| 2     | 45    | 19    |  34   | 90089 | 1.5   |   0   |\n",
       "| 3     | 39    | 15    |  11   | 94720 | 1.0   |   0   |\n",
       "| 4     | 35    |  9    | 100   | 94112 | 2.7   |   0   |\n",
       "| 5     | 35    |  8    |  45   | 91330 | 1.0   |   0   |\n",
       "| 6     | 37    | 13    |  29   | 92121 | 0.4   | 155   |\n",
       "\n"
      ],
      "text/plain": [
       "  ID Age Experience Income ZIP.Code CCAvg Mortgage\n",
       "1 1  25   1          49    91107    1.6     0     \n",
       "2 2  45  19          34    90089    1.5     0     \n",
       "3 3  39  15          11    94720    1.0     0     \n",
       "4 4  35   9         100    94112    2.7     0     \n",
       "5 5  35   8          45    91330    1.0     0     \n",
       "6 6  37  13          29    92121    0.4   155     "
      ]
     },
     "metadata": {},
     "output_type": "display_data"
    }
   ],
   "source": [
    "head(num_data)"
   ]
  },
  {
   "cell_type": "markdown",
   "id": "ffcab74f",
   "metadata": {},
   "source": [
    "\n",
    "- ID is basically a reference element. For example a bank doesn't decide upon whether to provide loan or not based on account number or university givne grades or based on admission number\n",
    "\n",
    "- If Zipcode attribute contains many unique values, then using this attribute for model building is not good."
   ]
  },
  {
   "cell_type": "code",
   "execution_count": 34,
   "id": "e10511ab",
   "metadata": {},
   "outputs": [],
   "source": [
    "## Dropping ID and ZIP Code\n",
    "\n",
    "num_data = subset(num_data,select=-c(ID,ZIP.Code))\n",
    "\n",
    "# subset() function: In R, the subset() function is used to subset or filter data frames based on specific conditions. \n",
    "# It takes a data frame as its first argument and allows you to specify conditions to select or exclude specific rows or columns.\n",
    "\n",
    "# select = -c(ID, ZIP.Code): The select argument in the subset() function is used to specify which columns to select or exclude. \n",
    "# In this case, the -c(ID, ZIP.Code) indicates that we want to exclude the \"ID\" and \"ZIP.Code\" columns."
   ]
  },
  {
   "cell_type": "code",
   "execution_count": 35,
   "id": "609bd1cf",
   "metadata": {},
   "outputs": [
    {
     "data": {
      "text/html": [
       "<table>\n",
       "<thead><tr><th scope=col>Age</th><th scope=col>Experience</th><th scope=col>Income</th><th scope=col>CCAvg</th><th scope=col>Mortgage</th></tr></thead>\n",
       "<tbody>\n",
       "\t<tr><td>25 </td><td> 1 </td><td> 49</td><td>1.6</td><td>  0</td></tr>\n",
       "\t<tr><td>45 </td><td>19 </td><td> 34</td><td>1.5</td><td>  0</td></tr>\n",
       "\t<tr><td>39 </td><td>15 </td><td> 11</td><td>1.0</td><td>  0</td></tr>\n",
       "\t<tr><td>35 </td><td> 9 </td><td>100</td><td>2.7</td><td>  0</td></tr>\n",
       "\t<tr><td>35 </td><td> 8 </td><td> 45</td><td>1.0</td><td>  0</td></tr>\n",
       "\t<tr><td>37 </td><td>13 </td><td> 29</td><td>0.4</td><td>155</td></tr>\n",
       "</tbody>\n",
       "</table>\n"
      ],
      "text/latex": [
       "\\begin{tabular}{r|lllll}\n",
       " Age & Experience & Income & CCAvg & Mortgage\\\\\n",
       "\\hline\n",
       "\t 25  &  1  &  49 & 1.6 &   0\\\\\n",
       "\t 45  & 19  &  34 & 1.5 &   0\\\\\n",
       "\t 39  & 15  &  11 & 1.0 &   0\\\\\n",
       "\t 35  &  9  & 100 & 2.7 &   0\\\\\n",
       "\t 35  &  8  &  45 & 1.0 &   0\\\\\n",
       "\t 37  & 13  &  29 & 0.4 & 155\\\\\n",
       "\\end{tabular}\n"
      ],
      "text/markdown": [
       "\n",
       "| Age | Experience | Income | CCAvg | Mortgage |\n",
       "|---|---|---|---|---|\n",
       "| 25  |  1  |  49 | 1.6 |   0 |\n",
       "| 45  | 19  |  34 | 1.5 |   0 |\n",
       "| 39  | 15  |  11 | 1.0 |   0 |\n",
       "| 35  |  9  | 100 | 2.7 |   0 |\n",
       "| 35  |  8  |  45 | 1.0 |   0 |\n",
       "| 37  | 13  |  29 | 0.4 | 155 |\n",
       "\n"
      ],
      "text/plain": [
       "  Age Experience Income CCAvg Mortgage\n",
       "1 25   1          49    1.6     0     \n",
       "2 45  19          34    1.5     0     \n",
       "3 39  15          11    1.0     0     \n",
       "4 35   9         100    2.7     0     \n",
       "5 35   8          45    1.0     0     \n",
       "6 37  13          29    0.4   155     "
      ]
     },
     "metadata": {},
     "output_type": "display_data"
    }
   ],
   "source": [
    "head(num_data)"
   ]
  },
  {
   "cell_type": "code",
   "execution_count": null,
   "id": "34ba94b0",
   "metadata": {},
   "outputs": [],
   "source": []
  }
 ],
 "metadata": {
  "kernelspec": {
   "display_name": "R",
   "language": "R",
   "name": "ir"
  },
  "language_info": {
   "codemirror_mode": "r",
   "file_extension": ".r",
   "mimetype": "text/x-r-source",
   "name": "R",
   "pygments_lexer": "r",
   "version": "3.6.1"
  }
 },
 "nbformat": 4,
 "nbformat_minor": 5
}
